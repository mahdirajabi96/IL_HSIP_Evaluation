{
 "cells": [
  {
   "cell_type": "code",
   "execution_count": 1,
   "metadata": {},
   "outputs": [
    {
     "name": "stdout",
     "output_type": "stream",
     "text": [
      "2018-11-09 09:07:12\n"
     ]
    }
   ],
   "source": [
    "from lxml import html\n",
    "import requests\n",
    "import pandas as pd\n",
    "import time\n",
    "from datetime import datetime\n",
    "# Importing requird python packages\n",
    "# Path to hsmpy package\n",
    "HSMPY_PATH = r'\\\\CHCFPP01\\Guest\\MRajabi\\Python Scripts'\n",
    "import sys, os, arcpy, csv, json, math\n",
    "sys.path.append(HSMPY_PATH)\n",
    "import hsmpy3\n",
    "import matplotlib.pyplot as plt\n",
    "import numpy as np\n",
    "import pandas as pd\n",
    "from datetime import datetime\n",
    "from IPython.display import Image\n",
    "from IPython.core.display import HTML \n",
    "import subprocess \n",
    "import webbrowser\n",
    "import time\n",
    "import copy\n",
    "import shutil\n",
    "from time import gmtime, strftime\n",
    "from ipywidgets import FloatProgress\n",
    "print(strftime(\"%Y-%m-%d %H:%M:%S\"))"
   ]
  },
  {
   "cell_type": "code",
   "execution_count": 2,
   "metadata": {},
   "outputs": [
    {
     "name": "stdout",
     "output_type": "stream",
     "text": [
      "2018-11-09 09:07:12\n"
     ]
    }
   ],
   "source": [
    "# Defining Parameteres\n",
    "print(strftime(\"%Y-%m-%d %H:%M:%S\"))\n",
    "Years = range(2005,2017)\n",
    "MaxOpenProcesses = 15\n",
    "\n",
    "Project_DIR  = r'\\\\CHCFPP01\\Proj\\ILDOT\\650511SAFETYPROGRAM\\4_WorkData\\WO19\\HSIP_Tracking_Tool'\n",
    "Project_GDB  = Project_DIR + '\\\\2.Project_GDB.gdb'\n",
    "ContractsDir = Project_DIR + '\\\\4.Contracts_AnalysisFiles'\n",
    "DocumentsDir = Project_DIR + '\\\\5.Documents'\n",
    "PythonDir    = Project_DIR + '\\\\6.Python_Codes'\n",
    "ReceivedDir  = Project_DIR + '\\\\7.ReceivedData'\n",
    "XML_Dir      = ReceivedDir + '\\\\HSIP Candidate Applications'\n",
    "\n",
    "\n",
    "# IRIS Dataset\n",
    "IRISPath = r'\\\\CHCFPP01\\Proj\\ILDOT\\650511SAFETYPROGRAM\\7_BaseData\\Master_BaseFiles_Data\\5.0_Roadway_Layer\\IRIS'\n",
    "IRISPath = r'C:\\Users\\mr068144\\Downloads\\IL Data\\IRIS\\IL_IRIS.gdb'\n",
    "IRIS_Route = {y:os.path.join(IRISPath,'HWY'+str(y)+'_route') for y in Years}\n",
    "IRIS_Tab   = {y:os.path.join(IRISPath,'HWY'+str(y)+'_table_HCurve') for y in Years}\n",
    "IRIS_Tab[2012] = IRIS_Tab[2013]\n",
    "\n",
    "# Intersections Dataset\n",
    "IntPG = r'C:\\Users\\mr068144\\Downloads\\6.0_Intersection_Layer\\IRIS_Ints.gdb\\Int2014_PG'\n",
    "Intersections = {year:IntPG for year in Years}\n",
    "\n",
    "#Crash Dataset\n",
    "CrashData  = {y:os.path.abspath(r'C:\\Users\\mr068144\\Downloads\\IL Data\\IL Crash Data\\IL_Crash.gdb\\\\' +\n",
    "                          'CrashExtract_' + str(y) + '_GIS') for y in Years}\n",
    "\n",
    "Fields = ['AADT',\n",
    "          'O_SHD1_TYP','O_SHD1_WTH','O_SHD2_TYP','O_SHD2_WTH',\n",
    "          'I_SHD1_TYP','I_SHD1_WTH','I_SHD2_TYP','I_SHD2_WTH',\n",
    "          'LNS','LN_WTH','MED_TYP','MED_WTH','SURF_WTH','URBAN','PG','Radius','CurveLen']\n",
    "#Fields = ['AADT','URBAN','PG']\n",
    "RouteID = 'INVENTORY'\n",
    "BMP = 'BEG_STA'\n",
    "EMP = 'END_STA'\n",
    "\n",
    "# Geocoded projects\n",
    "HSIP_Int  = Project_GDB + '\\\\WPPS_Int'\n",
    "HSIP_Seg  = Project_GDB + '\\\\WPPS_Seg'\n",
    "\n",
    "HSIP_Path    = ReceivedDir + '\\\\HSIP_AllApprovedProjects.xlsm'\n",
    "WPPS_Ob_Path = ReceivedDir + '\\\\HSIP Contract and Obligation Data.xlsx'\n",
    "WPPS_Pr_Path = ReceivedDir + '\\\\HSIP Project Programmed Data.xlsx'\n",
    "SPF_Data     = ReceivedDir  + '\\\\SPF Coefficients.xlsx'"
   ]
  },
  {
   "cell_type": "code",
   "execution_count": 3,
   "metadata": {},
   "outputs": [],
   "source": [
    "def GetAllLinks(url):\n",
    "    cont = requests.get(url).content\n",
    "    tree = html.fromstring(cont)\n",
    "    title = tree.xpath('/html/body')\n",
    "    LinkDF = pd.DataFrame(columns=['Link','Type'])\n",
    "    i = 0\n",
    "    for l in title[0]:\n",
    "        for a in l:\n",
    "            try:\n",
    "                href = a.attrib['href']\n",
    "                if a.text== '[To Parent Directory]':\n",
    "                    continue\n",
    "                if href[-1]=='/':\n",
    "                    i += 1\n",
    "                    LinkDF.loc[i]=['http://apps.dot.illinois.gov{}'.format(href),'Dir']\n",
    "                if href.find('.')!=-1:\n",
    "                    i += 1\n",
    "                    LinkDF.loc[i]=['http://apps.dot.illinois.gov{}'.format(href),href.split('.')[1].lower()]\n",
    "            except:\n",
    "                href = ''\n",
    "    return(LinkDF)\n",
    "def GetFileName(s):\n",
    "    s = s[42:]\n",
    "    sp = s.split('.')\n",
    "    if len(sp)>1:\n",
    "        return('{}.{}'.format(sp[-2].split('/')[-1],sp[-1]))\n",
    "    else:\n",
    "        return('')\n",
    "def GetBidDate(s):\n",
    "    try:\n",
    "        s = s[42:]\n",
    "        s.split('/')[0]\n",
    "        m = int(s[:2])\n",
    "        d = int(s[2:4])\n",
    "        y = int(s[4:6]) + 2000\n",
    "        #if m>=1 and m<=12 and d>=1 and d<=31 and y>=2002 and y<=2020:\n",
    "        d = datetime(y,m,d)\n",
    "        return(d)\n",
    "    except:\n",
    "        return(pd.NaT)\n",
    "def GetContNum(s):\n",
    "    try:\n",
    "        s = s[42:]\n",
    "        contnum,cont_ext = s.split('/')[1].split('-')\n",
    "        return(contnum)\n",
    "    except:\n",
    "        pass\n",
    "def GetContExt(s):\n",
    "    try:\n",
    "        s = s[42:]\n",
    "        contnum,cont_ext = s.split('/')[1].split('-')\n",
    "        return(cont_ext)\n",
    "    except:\n",
    "        pass"
   ]
  },
  {
   "cell_type": "code",
   "execution_count": 4,
   "metadata": {},
   "outputs": [
    {
     "name": "stdout",
     "output_type": "stream",
     "text": [
      "2018-11-09 09:07:12\n",
      "(620781, 7)\n",
      "2018-11-09 09:07:20\n"
     ]
    }
   ],
   "source": [
    "print(strftime(\"%Y-%m-%d %H:%M:%S\"))\n",
    "Doc_DF = pd.read_csv('Contracts_index.csv')\n",
    "Doc_DF = Doc_DF.drop(Doc_DF.columns[0], axis=1)\n",
    "Doc_DF['Filename'] = [GetFileName(s) for s in Doc_DF.Link]\n",
    "Doc_DF['Link2'] = [l[42:] for l in Doc_DF.Link]\n",
    "Doc_DF['BidDate'] = [GetBidDate(s) for s in Doc_DF.Link]\n",
    "Doc_DF['ContNum'] = [GetContNum(s) for s in Doc_DF.Link]\n",
    "Doc_DF['ContExt'] = [GetContExt(s) for s in Doc_DF.Link]\n",
    "print(Doc_DF.shape)\n",
    "print(strftime(\"%Y-%m-%d %H:%M:%S\"))"
   ]
  },
  {
   "cell_type": "code",
   "execution_count": null,
   "metadata": {
    "scrolled": true
   },
   "outputs": [],
   "source": [
    "# Create the index file\n",
    "DF1 = GetAllLinks('http://apps.dot.illinois.gov/eplan/DESENV/')\n",
    "DF1.to_csv('Contracts_index.csv')\n",
    "while True in [t=='Dir' for t in DF1.Type]:\n",
    "    for link in list(DF1[DF1.Type=='Dir']['Link']):\n",
    "        try:\n",
    "            DF2 = GetAllLinks(link)\n",
    "            DF1 = DF1[DF1.Link!=link]\n",
    "            DF1 = pd.concat([DF1,DF2])\n",
    "            #print(link,DF1[DF1.Type=='Dir'].shape[0],DF1[DF1.Type!='Dir'].shape[0])\n",
    "            DF1.to_csv('Contracts_index.csv')\n",
    "        except:\n",
    "            print(link,'Failed')\n",
    "            pass"
   ]
  },
  {
   "cell_type": "code",
   "execution_count": null,
   "metadata": {
    "scrolled": false
   },
   "outputs": [],
   "source": [
    "# Create the status file\n",
    "print(strftime(\"%Y-%m-%d %H:%M:%S\"))\n",
    "df = pd.read_html(ReceivedDir + '\\\\ContractStatus.html')\n",
    "SDF = df[1]\n",
    "SDF.columns = list(df[0].loc[0])\n",
    "SDF.index = pd.MultiIndex.from_tuples([(c,a) for c,a in zip(SDF.Contract,SDF.Authorization)])\n",
    "SDF = SDF[['Status','Status Date']]\n",
    "SDF.columns = [c.replace(' ','_') for c in SDF.columns]\n",
    "SDF.Status_Date = [datetime.strptime(d,'%m/%d/%Y') for d in SDF.Status_Date]\n",
    "SDF = SDF[~SDF.index.duplicated(keep='first')]\n",
    "print(SDF.shape)\n",
    "baseurl = 'http://apps.dot.illinois.gov/ChangeOrder/ChangeOrder.aspx?contractNumber={}&authorizationNumber={}'.format\n",
    "f = FloatProgress(min=0, max=len(SDF))\n",
    "display(f)\n",
    "for j,r in SDF.iterrows():\n",
    "    try:\n",
    "        cont = requests.get(baseurl(j[0],j[1])).content\n",
    "        tree = html.fromstring(cont)\n",
    "        title = tree.xpath('/html/body')\n",
    "        df = pd.DataFrame()\n",
    "        for i in range(0,15):\n",
    "            df[title[0][3][2][0][2*i][0].text_content()[:-1].replace(' ','_')] = [title[0][3][2][0][2*i+1][0].text_content()]\n",
    "        df.index = pd.MultiIndex.from_tuples([(df.loc[0,'Contract_Number'],df.loc[0,'Authorization_Number'])])\n",
    "        SDF = pd.concat([SDF,df])\n",
    "    except:\n",
    "        print('Failed: {}, {}'.format(j[0],j[1]))\n",
    "    f.value += 1\n",
    "    SDF.to_csv('Contract_Descriptions.csv')\n",
    "print(strftime(\"%Y-%m-%d %H:%M:%S\"))"
   ]
  },
  {
   "cell_type": "code",
   "execution_count": null,
   "metadata": {
    "scrolled": true
   },
   "outputs": [],
   "source": [
    "# Contract Authorization Numbers\n",
    "print(strftime(\"%Y-%m-%d %H:%M:%S\"))\n",
    "df = pd.read_html(ReceivedDir + '\\\\ContractAuthNumbers\\\\ConstructionChangeOrders.html')\n",
    "SDF1 = df[1]\n",
    "SDF1.columns = list(df[0].loc[0])\n",
    "SDF1.index = SDF1.Contract\n",
    "#SDF = SDF[['Status','Status Date']]\n",
    "SDF1.columns = [c.replace(' ','_') for c in SDF1.columns]\n",
    "SDF1.Status_Date = [datetime.strptime(d,'%m/%d/%Y') for d in SDF1.Status_Date]\n",
    "print(SDF1.shape)\n",
    "df = pd.read_html(ReceivedDir + '\\\\ContractAuthNumbers\\\\HighwayAeronautics.html')\n",
    "SDF2 = df[1]\n",
    "SDF2.columns = list(df[0].loc[0])\n",
    "SDF2.columns = [c.replace(' ','_') for c in SDF2.columns]\n",
    "SDF2.index = SDF2.Contract\n",
    "print(SDF2.shape)\n",
    "df = pd.read_html(ReceivedDir + '\\\\ContractAuthNumbers\\\\EngineeringConsultant.html')\n",
    "SDF3 = df[1]\n",
    "SDF3.columns = list(df[0].loc[0])\n",
    "SDF3.columns = [c.replace(' ','_') for c in SDF3.columns]\n",
    "print(SDF3.shape)\n",
    "df = pd.read_html(ReceivedDir + '\\\\ContractAuthNumbers\\\\EngineeringConsultantSupplement.html')\n",
    "SDF4 = df[1]\n",
    "SDF4.columns = list(df[0].loc[0])\n",
    "SDF4.columns = [c.replace(' ','_') for c in SDF4.columns]\n",
    "print(SDF4.shape)\n",
    "df = pd.read_html(ReceivedDir + '\\\\ContractAuthNumbers\\\\LandAq.html')\n",
    "SDF5 = df[1]\n",
    "SDF5.columns = list(df[0].loc[0])\n",
    "SDF5.columns = [c.replace(' ','_') for c in SDF5.columns]\n",
    "print(SDF5.shape)\n",
    "df = pd.read_html(ReceivedDir + '\\\\ContractAuthNumbers\\\\landAqAmendments.html')\n",
    "SDF6 = df[1]\n",
    "SDF6.columns = list(df[0].loc[0])\n",
    "SDF6.columns = [c.replace(' ','_') for c in SDF6.columns]\n",
    "print(SDF6.shape)\n",
    "print(strftime(\"%Y-%m-%d %H:%M:%S\"))"
   ]
  },
  {
   "cell_type": "code",
   "execution_count": 5,
   "metadata": {
    "scrolled": true
   },
   "outputs": [
    {
     "name": "stdout",
     "output_type": "stream",
     "text": [
      "2018-11-09 09:07:31\n",
      "(445190, 11)\n",
      "2018-11-09 09:09:11\n"
     ]
    }
   ],
   "source": [
    "# Letting items\n",
    "print(strftime(\"%Y-%m-%d %H:%M:%S\"))\n",
    "XLSList = [os.path.join(ReceivedDir+'\\\\PayItemReports', f) for f in os.listdir(ReceivedDir+'\\\\PayItemReports') \n",
    "           if os.path.isfile(os.path.join(ReceivedDir+'\\\\PayItemReports', f)) and \n",
    "           f.split('.')[1]=='xlsx']\n",
    "Let_DF = pd.DataFrame()\n",
    "for xls in XLSList:\n",
    "    df = pd.read_excel(xls,header=[0,1])\n",
    "    df.index.name = 'PAYITEM'\n",
    "    df.columns = ['DESCRIPTION','UNIT','QUANTITY','COUNTY','DIST','CONTNUM','ITEMNUM','AWARDPRICE']\n",
    "    s=os.path.basename(xls).split('.')[0][4:10]\n",
    "    d= datetime(2000+int(s[4:6]),int(s[0:2]),int(s[2:4]),0,0,0)\n",
    "    df['LetDate'] = d\n",
    "    Let_DF = pd.concat([Let_DF,df])\n",
    "Let_DF.QUANTITY = Let_DF.QUANTITY.astype(float)\n",
    "Let_DF.AWARDPRICE = [hsmpy3.common.ConvertType(Value=a,Type='DOUBLE') for a in Let_DF.AWARDPRICE]\n",
    "Let_DF['PayItem'] = list(Let_DF.index)\n",
    "Let_DF['Amount'] = [q*p for q,p in zip(Let_DF.QUANTITY,Let_DF.AWARDPRICE)]\n",
    "Let_DF.Amount = Let_DF.Amount.astype(float)\n",
    "Let_DF = Let_DF.sort_values(['LetDate','PayItem','CONTNUM'])\n",
    "print(Let_DF.shape)\n",
    "print(strftime(\"%Y-%m-%d %H:%M:%S\"))"
   ]
  },
  {
   "cell_type": "code",
   "execution_count": 126,
   "metadata": {},
   "outputs": [
    {
     "data": {
      "text/plain": [
       "(7816, 15)"
      ]
     },
     "execution_count": 126,
     "metadata": {},
     "output_type": "execute_result"
    }
   ],
   "source": [
    "# Clean Contract Descriptions\n",
    "print(strftime(\"%Y-%m-%d %H:%M:%S\"))\n",
    "Cont_DF = pd.read_csv(PythonDir+'\\\\Contract_Descriptions.csv',index_col=[0])\n",
    "Cont_DF.index.name = 'ContNum'\n",
    "Cont_DF = Cont_DF[~pd.isnull(Cont_DF.Contract_Number)].sort_index()\n",
    "Cont_DF.District = [hsmpy3.common.ConvertType(d,'SHORT') for d in Cont_DF.District]\n",
    "Cont_DF.Authorization_Amount = [hsmpy3.il.ConvertHSIP(a,'currency') for a in Cont_DF.Authorization_Amount]\n",
    "Cont_DF.Awarded_Contract_Value = [hsmpy3.il.ConvertHSIP(a,'currency') for a in Cont_DF.Awarded_Contract_Value]\n",
    "Cont_DF.Status_Date = [hsmpy3.il.ConvertHSIP(a,'date') for a in Cont_DF.Status_Date]\n",
    "Cont_DF = Cont_DF[['Authorization_Amount', 'Authorization_Number', 'Awarded_Contract_Value', 'Category_Code', 'Contract_Number', 'Contractor', 'County', 'Description', 'Determination_of_Germaneness', 'District', 'Project', 'Route', 'Section', 'Status', 'Status_Date']]\n",
    "Cont_DF = Cont_DF.sort_index()\n",
    "Cont_DF.shape\n",
    "Cont_DF.to_csv('Contract_Descriptions_Cleaned.csv')\n",
    "print(strftime(\"%Y-%m-%d %H:%M:%S\"))"
   ]
  },
  {
   "cell_type": "code",
   "execution_count": 6,
   "metadata": {},
   "outputs": [
    {
     "name": "stdout",
     "output_type": "stream",
     "text": [
      "2018-11-09 09:09:11\n",
      "(7816, 16)\n",
      "2018-11-09 09:09:11\n"
     ]
    }
   ],
   "source": [
    "# Contract Decriptions\n",
    "print(strftime(\"%Y-%m-%d %H:%M:%S\"))\n",
    "Desc_DF  = pd.read_csv('Contract_Descriptions_Cleaned.csv')\n",
    "print(Desc_DF.shape)\n",
    "print(strftime(\"%Y-%m-%d %H:%M:%S\"))"
   ]
  },
  {
   "cell_type": "code",
   "execution_count": 7,
   "metadata": {},
   "outputs": [
    {
     "name": "stdout",
     "output_type": "stream",
     "text": [
      "2018-11-09 09:09:11\n",
      "(39284, 10)\n",
      "2018-11-09 09:09:29\n"
     ]
    }
   ],
   "source": [
    "# Contract Amounts\n",
    "print(strftime(\"%Y-%m-%d %H:%M:%S\"))\n",
    "XLSList = [os.path.join(ReceivedDir+'\\\\Contracts', f) for f in os.listdir(ReceivedDir+'\\\\Contracts') \n",
    "           if os.path.isfile(os.path.join(ReceivedDir+'\\\\Contracts', f)) and \n",
    "           f.split('.')[1]=='xls']\n",
    "Pay_DF = pd.DataFrame()\n",
    "for xls in XLSList:\n",
    "    df = pd.read_excel(xls)\n",
    "    df['ContNum'] = os.path.basename(xls).split('.')[0]\n",
    "    Pay_DF = pd.concat([Pay_DF,df])\n",
    "print(Pay_DF.shape)\n",
    "print(strftime(\"%Y-%m-%d %H:%M:%S\"))"
   ]
  },
  {
   "cell_type": "code",
   "execution_count": 122,
   "metadata": {},
   "outputs": [
    {
     "name": "stdout",
     "output_type": "stream",
     "text": [
      "2018-11-08 15:04:43\n",
      "2018-11-08 15:04:51\n"
     ]
    }
   ],
   "source": [
    "# Updating contract PayItems based on Letting Data\n",
    "print(strftime(\"%Y-%m-%d %H:%M:%S\"))\n",
    "Let_DF.PayItem = Let_DF.PayItem.astype(str)\n",
    "Let_DF.DESCRIPTION = Let_DF.DESCRIPTION.astype(str)\n",
    "Let_DF = Let_DF.sort_values(by=['PayItem','LetDate'],ascending=[True,False])\n",
    "Let_DF1 = Let_DF.drop_duplicates(['PayItem','DESCRIPTION'])\n",
    "Let_DF1 = Let_DF1[['DESCRIPTION','UNIT','PayItem']]\n",
    "Let_DF1.index = Let_DF1.PayItem.astype(str)\n",
    "Let_DF1.PayItem = Let_DF1.PayItem.astype(str)\n",
    "Let_DF1 = Let_DF1.sort_index()\n",
    "Let_DF1['DescLen'] = [len(s) for s in Let_DF1.DESCRIPTION]\n",
    "Let_DF1 = Let_DF1.sort_values(['PayItem','DescLen'],ascending=[True,False])\n",
    "Let_DF1 = Let_DF1.drop_duplicates('PayItem')\n",
    "\n",
    "Pay_DF.index = pd.MultiIndex.from_tuples([(str(c),str(p)) for c,p in zip(Pay_DF.ContNum,Pay_DF.PAY_ITEM)],names=['ContNum','PayItem'])\n",
    "Pay_DF = Pay_DF[['PAY_ITEM_CODE', 'UNIT_PRICE', 'AWARDED_QTY', 'AWARDED_AMT', 'ADJUSTED_QTY', 'ADJUSTED_AMT', 'COMPLETED_QTY', 'COMPLETED_AMT', 'ContNum','PAY_ITEM']]\n",
    "Pay_DF['Desc2'] = list(Let_DF1.loc[list(Pay_DF.index.droplevel(0)),'DESCRIPTION'])\n",
    "Pay_DF['Unit'] = list(Let_DF1.loc[list(Pay_DF.index.droplevel(0)),'UNIT'])\n",
    "Pay_DF.loc[pd.isnull(Pay_DF.PAY_ITEM_CODE),'PAY_ITEM_CODE'] = Pay_DF.loc[pd.isnull(Pay_DF.PAY_ITEM_CODE),'Desc2']\n",
    "Pay_DF = Pay_DF.drop('Desc2',axis=1)\n",
    "Pay_DF = Pay_DF.sort_values(['ContNum','COMPLETED_AMT'],ascending=[True,False])\n",
    "Pay_DF = Pay_DF[['PAY_ITEM_CODE', 'Unit', 'UNIT_PRICE', 'AWARDED_QTY', 'AWARDED_AMT', 'ADJUSTED_QTY', 'ADJUSTED_AMT', 'COMPLETED_QTY', 'COMPLETED_AMT']]\n",
    "Pay_DF.to_csv('Contract_PayItems.csv')\n",
    "print(strftime(\"%Y-%m-%d %H:%M:%S\"))"
   ]
  },
  {
   "cell_type": "code",
   "execution_count": 8,
   "metadata": {},
   "outputs": [
    {
     "name": "stdout",
     "output_type": "stream",
     "text": [
      "2018-11-09 09:09:29\n",
      "(905, 33)\n",
      "2018-11-09 09:09:30\n"
     ]
    }
   ],
   "source": [
    "#HSIP Contracts\n",
    "print(strftime(\"%Y-%m-%d %H:%M:%S\"))\n",
    "Cont_DF = pd.read_excel(DocumentsDir + '\\\\Cont_DF.xlsx')\n",
    "print(Cont_DF.shape)\n",
    "print(strftime(\"%Y-%m-%d %H:%M:%S\"))"
   ]
  },
  {
   "cell_type": "code",
   "execution_count": 9,
   "metadata": {},
   "outputs": [
    {
     "data": {
      "text/html": [
       "<div>\n",
       "<style>\n",
       "    .dataframe thead tr:only-child th {\n",
       "        text-align: right;\n",
       "    }\n",
       "\n",
       "    .dataframe thead th {\n",
       "        text-align: left;\n",
       "    }\n",
       "\n",
       "    .dataframe tbody tr th {\n",
       "        vertical-align: top;\n",
       "    }\n",
       "</style>\n",
       "<table border=\"1\" class=\"dataframe\">\n",
       "  <thead>\n",
       "    <tr style=\"text-align: right;\">\n",
       "      <th></th>\n",
       "      <th>Selected</th>\n",
       "      <th>HSIP</th>\n",
       "      <th>Amounts</th>\n",
       "      <th>Descriptions</th>\n",
       "      <th>LetItems</th>\n",
       "      <th>Documents</th>\n",
       "    </tr>\n",
       "  </thead>\n",
       "  <tbody>\n",
       "    <tr>\n",
       "      <th>Selected</th>\n",
       "      <td>387</td>\n",
       "      <td>387</td>\n",
       "      <td>387</td>\n",
       "      <td>63</td>\n",
       "      <td>280</td>\n",
       "      <td>383</td>\n",
       "    </tr>\n",
       "    <tr>\n",
       "      <th>HSIP</th>\n",
       "      <td>387</td>\n",
       "      <td>905</td>\n",
       "      <td>692</td>\n",
       "      <td>144</td>\n",
       "      <td>515</td>\n",
       "      <td>498</td>\n",
       "    </tr>\n",
       "    <tr>\n",
       "      <th>Amounts</th>\n",
       "      <td>387</td>\n",
       "      <td>692</td>\n",
       "      <td>692</td>\n",
       "      <td>143</td>\n",
       "      <td>515</td>\n",
       "      <td>497</td>\n",
       "    </tr>\n",
       "    <tr>\n",
       "      <th>Descriptions</th>\n",
       "      <td>63</td>\n",
       "      <td>144</td>\n",
       "      <td>143</td>\n",
       "      <td>2451</td>\n",
       "      <td>2085</td>\n",
       "      <td>1737</td>\n",
       "    </tr>\n",
       "    <tr>\n",
       "      <th>LetItems</th>\n",
       "      <td>280</td>\n",
       "      <td>515</td>\n",
       "      <td>515</td>\n",
       "      <td>2085</td>\n",
       "      <td>9006</td>\n",
       "      <td>6379</td>\n",
       "    </tr>\n",
       "    <tr>\n",
       "      <th>Documents</th>\n",
       "      <td>383</td>\n",
       "      <td>498</td>\n",
       "      <td>497</td>\n",
       "      <td>1737</td>\n",
       "      <td>6379</td>\n",
       "      <td>11383</td>\n",
       "    </tr>\n",
       "  </tbody>\n",
       "</table>\n",
       "</div>"
      ],
      "text/plain": [
       "              Selected  HSIP  Amounts  Descriptions  LetItems  Documents\n",
       "Selected           387   387      387            63       280        383\n",
       "HSIP               387   905      692           144       515        498\n",
       "Amounts            387   692      692           143       515        497\n",
       "Descriptions        63   144      143          2451      2085       1737\n",
       "LetItems           280   515      515          2085      9006       6379\n",
       "Documents          383   498      497          1737      6379      11383"
      ]
     },
     "execution_count": 9,
     "metadata": {},
     "output_type": "execute_result"
    }
   ],
   "source": [
    "C0 = set(Cont_DF[(Cont_DF.Status=='C') & \n",
    "        (Cont_DF.F_AwardDate>datetime(2007,1,1,0,0)) & \n",
    "        (Cont_DF.F_CompDate <datetime(2015,1,1,0,0)) &\n",
    "        (Cont_DF.HSIPAmount>0)]['ContNum'].astype(str))\n",
    "C1 = set(Cont_DF.ContNum.astype(str))\n",
    "C2 = set(Pay_DF.ContNum.astype(str))\n",
    "C3 = set(Desc_DF.ContNum.astype(str))\n",
    "C4 = set(Let_DF.CONTNUM.astype(str))\n",
    "C5 = set(Doc_DF.ContNum.astype(str))\n",
    "df = pd.DataFrame(columns=['Selected','HSIP','Amounts','Descriptions','LetItems','Documents'],\n",
    "                  index  =['Selected','HSIP','Amounts','Descriptions','LetItems','Documents'])\n",
    "df.loc['Selected']     = [len(C0.intersection(s)) for s in [C0,C1,C2,C3,C4,C5]]\n",
    "df.loc['HSIP']         = [len(C1.intersection(s)) for s in [C0,C1,C2,C3,C4,C5]]\n",
    "df.loc['Amounts']      = [len(C2.intersection(s)) for s in [C0,C1,C2,C3,C4,C5]]\n",
    "df.loc['Descriptions'] = [len(C3.intersection(s)) for s in [C0,C1,C2,C3,C4,C5]]\n",
    "df.loc['LetItems']     = [len(C4.intersection(s)) for s in [C0,C1,C2,C3,C4,C5]]\n",
    "df.loc['Documents']    = [len(C5.intersection(s)) for s in [C0,C1,C2,C3,C4,C5]]\n",
    "df"
   ]
  },
  {
   "cell_type": "code",
   "execution_count": null,
   "metadata": {},
   "outputs": [],
   "source": [
    "#create a list of documents to download and download them\n",
    "#add available descriptions"
   ]
  },
  {
   "cell_type": "code",
   "execution_count": 10,
   "metadata": {},
   "outputs": [
    {
     "data": {
      "text/plain": [
       "(24428, 7)"
      ]
     },
     "execution_count": 10,
     "metadata": {},
     "output_type": "execute_result"
    }
   ],
   "source": [
    "Doc_DF1 = Doc_DF[(Doc_DF.ContNum.isin(C1)) & (Doc_DF.Type=='pdf')]\n",
    "Doc_DF1 = Doc_DF1.sort_values(['ContNum','Type'])\n",
    "Doc_DF1.index = Doc_DF1.ContNum\n",
    "Doc_DF1.shape"
   ]
  },
  {
   "cell_type": "code",
   "execution_count": null,
   "metadata": {
    "scrolled": true
   },
   "outputs": [],
   "source": [
    "import socket \n",
    "socket.setdefaulttimeout(120)\n",
    "for c in list(set(Doc_DF1.index)):\n",
    "    print(c,Doc_DF1.loc[c].shape[0])\n",
    "    dir_path = ReceivedDir + '\\\\Plans\\\\{}'.format(c)\n",
    "    if not os.path.exists(dir_path):\n",
    "        print('Make Directory: ' + dir_path)\n",
    "        os.mkdir(dir_path)\n",
    "    for l,f in zip(list(Doc_DF1[Doc_DF1.ContNum==c]['Link']),list(Doc_DF1[Doc_DF1.ContNum==c]['Filename'])):\n",
    "        if not os.path.exists(dir_path + '\\\\' + f):\n",
    "            try:\n",
    "                hsmpy3.common.Downloadfile(URL=l,OutputDir=dir_path,extension='pdf')\n",
    "            except:\n",
    "                print('Failed: {}, {}'.format(c,l))\n",
    "                pass\n",
    "        else:\n",
    "            print('Already Exist: '+ dir_path + '\\\\' + f)"
   ]
  }
 ],
 "metadata": {
  "kernelspec": {
   "display_name": "Python 3",
   "language": "python",
   "name": "python3"
  },
  "language_info": {
   "codemirror_mode": {
    "name": "ipython",
    "version": 3
   },
   "file_extension": ".py",
   "mimetype": "text/x-python",
   "name": "python",
   "nbconvert_exporter": "python",
   "pygments_lexer": "ipython3",
   "version": "3.6.4"
  }
 },
 "nbformat": 4,
 "nbformat_minor": 2
}
